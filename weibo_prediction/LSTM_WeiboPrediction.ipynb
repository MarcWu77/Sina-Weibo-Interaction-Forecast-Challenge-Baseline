{
 "cells": [
  {
   "cell_type": "code",
   "execution_count": 5,
   "metadata": {},
   "outputs": [],
   "source": [
    "import pandas as pd"
   ]
  },
  {
   "cell_type": "code",
   "execution_count": 9,
   "metadata": {},
   "outputs": [],
   "source": [
    "tokenized_data = pd.read_csv('tokenized_data.csv', encoding='utf-8')\n",
    "tokenized_data.dropna(how='any', axis='index', inplace=True)"
   ]
  },
  {
   "cell_type": "code",
   "execution_count": 10,
   "metadata": {},
   "outputs": [
    {
     "data": {
      "text/html": [
       "<div>\n",
       "<style scoped>\n",
       "    .dataframe tbody tr th:only-of-type {\n",
       "        vertical-align: middle;\n",
       "    }\n",
       "\n",
       "    .dataframe tbody tr th {\n",
       "        vertical-align: top;\n",
       "    }\n",
       "\n",
       "    .dataframe thead th {\n",
       "        text-align: right;\n",
       "    }\n",
       "</style>\n",
       "<table border=\"1\" class=\"dataframe\">\n",
       "  <thead>\n",
       "    <tr style=\"text-align: right;\">\n",
       "      <th></th>\n",
       "      <th>uid</th>\n",
       "      <th>mid</th>\n",
       "      <th>time</th>\n",
       "      <th>forward_count</th>\n",
       "      <th>comment_count</th>\n",
       "      <th>like_count</th>\n",
       "      <th>tokenized_data</th>\n",
       "    </tr>\n",
       "  </thead>\n",
       "  <tbody>\n",
       "    <tr>\n",
       "      <th>0</th>\n",
       "      <td>fa13974743d3fe6ff40d21b872325e9e</td>\n",
       "      <td>8169f1d45051e08ef213bf1106b1225d</td>\n",
       "      <td>2015-02-14 12:49:58</td>\n",
       "      <td>0.0</td>\n",
       "      <td>0.0</td>\n",
       "      <td>0.0</td>\n",
       "      <td>挣钱 是 一 种 能力 抢 红包 拼 的 是 技术 我 抢 到 了 丁辰灵 和 一起 发出 ...</td>\n",
       "    </tr>\n",
       "    <tr>\n",
       "      <th>1</th>\n",
       "      <td>da534fe87e7a52777bee5c30573ed5fd</td>\n",
       "      <td>68cd0258c31c2c525f94febea2d9523b</td>\n",
       "      <td>2015-03-31 13:58:06</td>\n",
       "      <td>0.0</td>\n",
       "      <td>0.0</td>\n",
       "      <td>0.0</td>\n",
       "      <td>淘宝网 这些 傻 逼气 的 劳资 有 火 没 地 儿发尼玛 你们 都 瞎 了</td>\n",
       "    </tr>\n",
       "    <tr>\n",
       "      <th>2</th>\n",
       "      <td>e06a22b7e065e559a1f0bf7841a85c51</td>\n",
       "      <td>00b9f86b4915aedb7db943c54fd19d59</td>\n",
       "      <td>2015-06-11 20:39:57</td>\n",
       "      <td>0.0</td>\n",
       "      <td>4.0</td>\n",
       "      <td>3.0</td>\n",
       "      <td>看点 不 能 说 的 你们 都 懂</td>\n",
       "    </tr>\n",
       "    <tr>\n",
       "      <th>3</th>\n",
       "      <td>f9828598f9664d4e347ef2048ce17734</td>\n",
       "      <td>c7f6f66044c0c5a3330e2c5371be6824</td>\n",
       "      <td>2015-03-10 18:02:38</td>\n",
       "      <td>0.0</td>\n",
       "      <td>0.0</td>\n",
       "      <td>0.0</td>\n",
       "      <td>多 张</td>\n",
       "    </tr>\n",
       "    <tr>\n",
       "      <th>4</th>\n",
       "      <td>d80f3d3c5c1d658e82b837a4dd1af849</td>\n",
       "      <td>bfc0819b83ec59ce767287077f2b3507</td>\n",
       "      <td>2015-02-13 01:09:41</td>\n",
       "      <td>0.0</td>\n",
       "      <td>0.0</td>\n",
       "      <td>0.0</td>\n",
       "      <td>有生之年 我 最 喜欢 的 主跟 我 的 三体勾 搭 到 一起 了 幸福感 爆棚</td>\n",
       "    </tr>\n",
       "  </tbody>\n",
       "</table>\n",
       "</div>"
      ],
      "text/plain": [
       "                                uid                               mid  \\\n",
       "0  fa13974743d3fe6ff40d21b872325e9e  8169f1d45051e08ef213bf1106b1225d   \n",
       "1  da534fe87e7a52777bee5c30573ed5fd  68cd0258c31c2c525f94febea2d9523b   \n",
       "2  e06a22b7e065e559a1f0bf7841a85c51  00b9f86b4915aedb7db943c54fd19d59   \n",
       "3  f9828598f9664d4e347ef2048ce17734  c7f6f66044c0c5a3330e2c5371be6824   \n",
       "4  d80f3d3c5c1d658e82b837a4dd1af849  bfc0819b83ec59ce767287077f2b3507   \n",
       "\n",
       "                  time  forward_count  comment_count  like_count  \\\n",
       "0  2015-02-14 12:49:58            0.0            0.0         0.0   \n",
       "1  2015-03-31 13:58:06            0.0            0.0         0.0   \n",
       "2  2015-06-11 20:39:57            0.0            4.0         3.0   \n",
       "3  2015-03-10 18:02:38            0.0            0.0         0.0   \n",
       "4  2015-02-13 01:09:41            0.0            0.0         0.0   \n",
       "\n",
       "                                      tokenized_data  \n",
       "0  挣钱 是 一 种 能力 抢 红包 拼 的 是 技术 我 抢 到 了 丁辰灵 和 一起 发出 ...  \n",
       "1             淘宝网 这些 傻 逼气 的 劳资 有 火 没 地 儿发尼玛 你们 都 瞎 了  \n",
       "2                                  看点 不 能 说 的 你们 都 懂  \n",
       "3                                                多 张  \n",
       "4           有生之年 我 最 喜欢 的 主跟 我 的 三体勾 搭 到 一起 了 幸福感 爆棚  "
      ]
     },
     "execution_count": 10,
     "metadata": {},
     "output_type": "execute_result"
    }
   ],
   "source": [
    "tokenized_data.head()"
   ]
  },
  {
   "cell_type": "code",
   "execution_count": 11,
   "metadata": {},
   "outputs": [
    {
     "data": {
      "text/plain": [
       "array(['挣钱 是 一 种 能力 抢 红包 拼 的 是 技术 我 抢 到 了 丁辰灵 和 一起 发出 的 现金 红包 幸福感 爆棚 情人节 一起 来 和 粉丝 红包 约 个 会 吧 ￣￣ )',\n",
       "       '淘宝网 这些 傻 逼气 的 劳资 有 火 没 地 儿发尼玛 你们 都 瞎 了', '看点 不 能 说 的 你们 都 懂', ...,\n",
       "       '金鱼 的 记忆 只 有 七 秒 股民 也 是',\n",
       "       '小年 抢 个 好 彩头 我 在 五岳 散人 的 红包 中 抽 到 了 提供 的 “ 快 的 打车元 红包 ” 羊年 未 到 好运 先 来 你 也 快 来 试试 手气',\n",
       "       '电子 土拨鼠 | 当 虚拟 撞 上 现实 技术 宅 逆袭 浪漫 求婚 今年月 里 的 一 次 求婚 相信 你 肯定 会 记得 ： 汪峰 在 章子怡 岁 生日 宴 上 通过 一 台 托载 着重 达 克拉 英国 钻戒 的 无人机 抱得 了 美人 归并 成功 的 上 了 头 条 本期 栏目 就 让 我们 从 一个 技术 宅 的 角度 一步步 将 虚拟 现实 “ 大卸八块 ”'],\n",
       "      dtype=object)"
      ]
     },
     "execution_count": 11,
     "metadata": {},
     "output_type": "execute_result"
    }
   ],
   "source": [
    "tokenized_data['tokenized_data'].values"
   ]
  },
  {
   "cell_type": "code",
   "execution_count": 35,
   "metadata": {},
   "outputs": [],
   "source": [
    "from sklearn import model_selection"
   ]
  },
  {
   "cell_type": "code",
   "execution_count": 41,
   "metadata": {},
   "outputs": [],
   "source": [
    "import tensorflow as tf\n",
    "from tensorflow import keras\n",
    "from tensorflow.keras import layers"
   ]
  },
  {
   "cell_type": "code",
   "execution_count": 4,
   "metadata": {},
   "outputs": [],
   "source": [
    "from tensorflow.keras.preprocessing.text import Tokenizer"
   ]
  },
  {
   "cell_type": "code",
   "execution_count": 13,
   "metadata": {},
   "outputs": [],
   "source": [
    "MAX_NB_WORDS = 50000\n",
    "MAX_SEQUENCE_LENGTH = 200\n",
    "EMBEDDING_DIM = 100\n",
    "\n",
    "tokenizer = Tokenizer(num_words=MAX_NB_WORDS, filters='!\"#$%&()*+,-./:;<=>?@[\\]^_`{|}~', lower=True)\n"
   ]
  },
  {
   "cell_type": "code",
   "execution_count": 15,
   "metadata": {},
   "outputs": [],
   "source": [
    "tokenizer.fit_on_texts(tokenized_data['tokenized_data'].values)"
   ]
  },
  {
   "cell_type": "code",
   "execution_count": 16,
   "metadata": {},
   "outputs": [
    {
     "name": "stdout",
     "output_type": "stream",
     "text": [
      "645798\n"
     ]
    }
   ],
   "source": [
    "word_index = tokenizer.word_index\n",
    "print(len(word_index))"
   ]
  },
  {
   "cell_type": "code",
   "execution_count": 19,
   "metadata": {},
   "outputs": [],
   "source": [
    "X = tokenizer.texts_to_sequences(tokenized_data['tokenized_data'].values)"
   ]
  },
  {
   "cell_type": "code",
   "execution_count": 21,
   "metadata": {},
   "outputs": [],
   "source": [
    "X = tf.keras.preprocessing.sequence.pad_sequences(X, maxlen=MAX_SEQUENCE_LENGTH)"
   ]
  },
  {
   "cell_type": "code",
   "execution_count": 22,
   "metadata": {},
   "outputs": [
    {
     "data": {
      "text/plain": [
       "(1154444, 200)"
      ]
     },
     "execution_count": 22,
     "metadata": {},
     "output_type": "execute_result"
    }
   ],
   "source": [
    "X.shape"
   ]
  },
  {
   "cell_type": "code",
   "execution_count": 29,
   "metadata": {},
   "outputs": [],
   "source": [
    "Y = tokenized_data[['forward_count', 'comment_count', 'like_count']].to_numpy()"
   ]
  },
  {
   "cell_type": "code",
   "execution_count": 30,
   "metadata": {},
   "outputs": [
    {
     "data": {
      "text/plain": [
       "(1154444, 3)"
      ]
     },
     "execution_count": 30,
     "metadata": {},
     "output_type": "execute_result"
    }
   ],
   "source": [
    "Y.shape"
   ]
  },
  {
   "cell_type": "markdown",
   "metadata": {},
   "source": [
    "Train/Test Split"
   ]
  },
  {
   "cell_type": "code",
   "execution_count": 36,
   "metadata": {},
   "outputs": [],
   "source": [
    "X_train, X_test, Y_train, Y_test = model_selection.train_test_split(X,Y, test_size = 0.1, random_state = 42)"
   ]
  },
  {
   "cell_type": "code",
   "execution_count": 38,
   "metadata": {},
   "outputs": [
    {
     "name": "stdout",
     "output_type": "stream",
     "text": [
      "(1038999, 200) (1038999, 3)\n",
      "(115445, 200) (115445, 3)\n"
     ]
    }
   ],
   "source": [
    "print(X_train.shape, Y_train.shape)\n",
    "print(X_test.shape, Y_test.shape)"
   ]
  },
  {
   "cell_type": "markdown",
   "metadata": {},
   "source": [
    "Train model"
   ]
  },
  {
   "cell_type": "code",
   "execution_count": null,
   "metadata": {},
   "outputs": [
    {
     "name": "stdout",
     "output_type": "stream",
     "text": [
      "Epoch 1/5\n",
      "   19/14611 [..............................] - ETA: 45:49:31 - loss: 8.9188 - accuracy: 0.3873"
     ]
    }
   ],
   "source": [
    "model = keras.Sequential()\n",
    "model.add(layers.Embedding(MAX_NB_WORDS, EMBEDDING_DIM, input_length=X.shape[1]))\n",
    "model.add(layers.SpatialDropout1D(0.2))\n",
    "model.add(layers.LSTM(1000, dropout=0.2, recurrent_dropout=0.2))\n",
    "model.add(layers.Dense(3, activation='softmax'))\n",
    "model.compile(loss='categorical_crossentropy', optimizer='adam', metrics=['accuracy'])\n",
    "\n",
    "epochs = 5\n",
    "batch_size = 64\n",
    "\n",
    "history = model.fit(X_train, Y_train, epochs=epochs, batch_size=batch_size, validation_split=0.1, callbacks=[keras.callbacks.EarlyStopping(monitor='val_loss', patience=3, min_delta=0.0001)])"
   ]
  }
 ],
 "metadata": {
  "kernelspec": {
   "display_name": "Python 3",
   "language": "python",
   "name": "python3"
  },
  "language_info": {
   "codemirror_mode": {
    "name": "ipython",
    "version": 3
   },
   "file_extension": ".py",
   "mimetype": "text/x-python",
   "name": "python",
   "nbconvert_exporter": "python",
   "pygments_lexer": "ipython3",
   "version": "3.8.3"
  }
 },
 "nbformat": 4,
 "nbformat_minor": 4
}
